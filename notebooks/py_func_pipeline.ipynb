{
 "cells": [
  {
   "cell_type": "markdown",
   "metadata": {},
   "source": [
    "# Deploy a training pipeline"
   ]
  },
  {
   "cell_type": "markdown",
   "metadata": {},
   "source": [
    "## Before you start\n",
    "\n",
    "Run the cell below to verify that all the required packages are installed."
   ]
  },
  {
   "cell_type": "code",
   "execution_count": null,
   "metadata": {},
   "outputs": [],
   "source": [
    "pip install -r \"../requirements.txt\""
   ]
  },
  {
   "cell_type": "markdown",
   "metadata": {},
   "source": [
    "### Connect to your workspace\n",
    "\n",
    "To connect to a workspace, we need identifier parameters - a subscription ID, resource group name, and workspace name. Since you're working with a compute instance, managed by Azure Machine Learning, you can use the default values to connect to the workspace."
   ]
  },
  {
   "cell_type": "code",
   "execution_count": 1,
   "metadata": {},
   "outputs": [],
   "source": [
    "from dotenv import load_dotenv\n",
    "import os\n",
    "load_dotenv() # take environment variables from .env.\n",
    "\n",
    "\n",
    "subscription = os.environ[\"SUBSCRIPTION\"]\n",
    "resource_group = os.environ[\"RESOURCE_GROUP\"]\n",
    "ws_name = os.environ[\"WORKSPACE_NAME\"]\n",
    "compute_cluster = os.environ[\"COMPUTE_CLUSTER\"]"
   ]
  },
  {
   "cell_type": "code",
   "execution_count": 2,
   "metadata": {},
   "outputs": [],
   "source": [
    "from azure.ai.ml import MLClient\n",
    "from azure.identity import DefaultAzureCredential\n",
    "\n",
    "# authenticate\n",
    "credential = DefaultAzureCredential()\n",
    "\n",
    "# Get a handle to the workspace\n",
    "ml_client = MLClient(\n",
    "    credential=credential,\n",
    "    subscription_id=subscription,\n",
    "    resource_group_name=resource_group,\n",
    "    workspace_name=ws_name,\n",
    ")"
   ]
  },
  {
   "cell_type": "markdown",
   "metadata": {},
   "source": [
    "Create Data store and upload training data"
   ]
  },
  {
   "cell_type": "code",
   "execution_count": null,
   "metadata": {},
   "outputs": [],
   "source": [
    "from azure.ai.ml.entities import Data\n",
    "from azure.ai.ml.constants import AssetTypes\n",
    "\n",
    "data_path = \"../data\"\n",
    "dataset_name = \"diabetes-data-train\"\n",
    "\n",
    "patient_dataset = Data(\n",
    "    path=data_path,\n",
    "    type=AssetTypes.URI_FOLDER,\n",
    "    description=\"Training data for diabetes prediction\",\n",
    "    name=dataset_name,\n",
    ")\n",
    "ml_client.data.create_or_update(patient_dataset)"
   ]
  },
  {
   "cell_type": "code",
   "execution_count": 3,
   "metadata": {},
   "outputs": [
    {
     "name": "stdout",
     "output_type": "stream",
     "text": [
      "creation_context:\n",
      "  created_at: '2024-12-11T00:23:56.378642+00:00'\n",
      "  created_by: System Administrator\n",
      "  created_by_type: User\n",
      "  last_modified_at: '2024-12-11T00:23:56.396134+00:00'\n",
      "description: Training data for diabetes prediction\n",
      "id: /subscriptions/5bab2ebd-b16a-469d-8aa4-abdaea7f9e17/resourceGroups/damen-pipeline-test/providers/Microsoft.MachineLearningServices/workspaces/damen-pipeline-deployment-ws/data/diabetes-data-train/versions/4\n",
      "name: diabetes-data-train\n",
      "path: azureml://subscriptions/5bab2ebd-b16a-469d-8aa4-abdaea7f9e17/resourcegroups/damen-pipeline-test/workspaces/damen-pipeline-deployment-ws/datastores/workspaceblobstore/paths/LocalUpload/177b0cdcf5bcd30ff675ca95a93cbccd/data/\n",
      "properties: {}\n",
      "tags: {}\n",
      "type: uri_folder\n",
      "version: '4'\n",
      "\n"
     ]
    }
   ],
   "source": [
    "patient_dataset = ml_client.data.get(\n",
    "    name=\"diabetes-data-train\", label=\"latest\"\n",
    ")\n",
    "\n",
    "print(patient_dataset)"
   ]
  },
  {
   "cell_type": "markdown",
   "metadata": {},
   "source": [
    "Load components"
   ]
  },
  {
   "cell_type": "code",
   "execution_count": 4,
   "metadata": {},
   "outputs": [
    {
     "name": "stdout",
     "output_type": "stream",
     "text": [
      "c:\\Users\\shenglinxu\\OneDrive - Microsoft\\projects\\personal_projects\\mlops-pipeline-creation\n"
     ]
    }
   ],
   "source": [
    "import os\n",
    "from pathlib import Path\n",
    "\n",
    "# Determine the project root relative to the current notebook's location\n",
    "notebook_dir = Path.cwd()\n",
    "project_root = notebook_dir.parent  # Adjust to go one level up to the project root\n",
    "\n",
    "# Change the working directory to the project root\n",
    "os.chdir(project_root)\n",
    "\n",
    "print(project_root)"
   ]
  },
  {
   "cell_type": "code",
   "execution_count": null,
   "metadata": {},
   "outputs": [
    {
     "name": "stderr",
     "output_type": "stream",
     "text": [
      "Warning: the provided asset name 'mldesigner_environment' will not be used for anonymous registration\n",
      "Warning: the provided asset name 'mldesigner_environment' will not be used for anonymous registration\n",
      "Warning: the provided asset name 'mldesigner_environment' will not be used for anonymous registration\n",
      "Warning: the provided asset name 'mldesigner_environment' will not be used for anonymous registration\n",
      "Warning: the provided asset name 'mldesigner_environment' will not be used for anonymous registration\n"
     ]
    }
   ],
   "source": [
    "\n",
    "from py_func_based_pipeline.components.compare_models import compare_two_models\n",
    "from py_func_based_pipeline.components.fix_missing_data import remove_empty_rows\n",
    "from py_func_based_pipeline.components.normalize_data import normalize_data\n",
    "from py_func_based_pipeline.components.train_decision_tree import train_decision_tree_classifier_model\n",
    "from py_func_based_pipeline.components.train_logistic_regression import train_logistic_regression_classifier_model\n"
   ]
  },
  {
   "cell_type": "code",
   "execution_count": null,
   "metadata": {},
   "outputs": [
    {
     "ename": "AttributeError",
     "evalue": "module 'py_func_based_pipeline.components.fix_missing_data' has no attribute '_is_anonymous'",
     "output_type": "error",
     "traceback": [
      "\u001b[1;31m---------------------------------------------------------------------------\u001b[0m",
      "\u001b[1;31mAttributeError\u001b[0m                            Traceback (most recent call last)",
      "Cell \u001b[1;32mIn[7], line 1\u001b[0m\n\u001b[1;32m----> 1\u001b[0m \u001b[43mml_client\u001b[49m\u001b[38;5;241;43m.\u001b[39;49m\u001b[43mcomponents\u001b[49m\u001b[38;5;241;43m.\u001b[39;49m\u001b[43mcreate_or_update\u001b[49m\u001b[43m(\u001b[49m\u001b[43mfix_missing_data\u001b[49m\u001b[43m)\u001b[49m\n\u001b[0;32m      2\u001b[0m ml_client\u001b[38;5;241m.\u001b[39mcomponents\u001b[38;5;241m.\u001b[39mcreate_or_update(normalize_data)\n\u001b[0;32m      3\u001b[0m ml_client\u001b[38;5;241m.\u001b[39mcomponents\u001b[38;5;241m.\u001b[39mcreate_or_update(train_logistic_regression)\n",
      "File \u001b[1;32mc:\\Users\\shenglinxu\\OneDrive - Microsoft\\projects\\personal_projects\\mlops-pipeline-creation\\venv\\Lib\\site-packages\\azure\\ai\\ml\\_telemetry\\activity.py:372\u001b[0m, in \u001b[0;36mmonitor_with_telemetry_mixin.<locals>.monitor.<locals>.wrapper\u001b[1;34m(*args, **kwargs)\u001b[0m\n\u001b[0;32m    370\u001b[0m dimensions \u001b[38;5;241m=\u001b[39m {\u001b[38;5;241m*\u001b[39m\u001b[38;5;241m*\u001b[39mparameter_dimensions, \u001b[38;5;241m*\u001b[39m\u001b[38;5;241m*\u001b[39m(custom_dimensions \u001b[38;5;129;01mor\u001b[39;00m {})}\n\u001b[0;32m    371\u001b[0m \u001b[38;5;28;01mwith\u001b[39;00m log_activity(logger, activity_name \u001b[38;5;129;01mor\u001b[39;00m f\u001b[38;5;241m.\u001b[39m\u001b[38;5;18m__name__\u001b[39m, activity_type, dimensions) \u001b[38;5;28;01mas\u001b[39;00m activityLogger:\n\u001b[1;32m--> 372\u001b[0m     return_value \u001b[38;5;241m=\u001b[39m \u001b[43mf\u001b[49m\u001b[43m(\u001b[49m\u001b[38;5;241;43m*\u001b[39;49m\u001b[43margs\u001b[49m\u001b[43m,\u001b[49m\u001b[43m \u001b[49m\u001b[38;5;241;43m*\u001b[39;49m\u001b[38;5;241;43m*\u001b[39;49m\u001b[43mkwargs\u001b[49m\u001b[43m)\u001b[49m\n\u001b[0;32m    373\u001b[0m     \u001b[38;5;28;01mif\u001b[39;00m \u001b[38;5;129;01mnot\u001b[39;00m parameter_dimensions:\n\u001b[0;32m    374\u001b[0m         \u001b[38;5;66;03m# collect from return if no dimensions from parameter\u001b[39;00m\n\u001b[0;32m    375\u001b[0m         activityLogger\u001b[38;5;241m.\u001b[39mactivity_info\u001b[38;5;241m.\u001b[39mupdate(_collect_from_return_value(return_value))\n",
      "File \u001b[1;32mc:\\Users\\shenglinxu\\OneDrive - Microsoft\\projects\\personal_projects\\mlops-pipeline-creation\\venv\\Lib\\site-packages\\azure\\ai\\ml\\operations\\_component_operations.py:610\u001b[0m, in \u001b[0;36mComponentOperations.create_or_update\u001b[1;34m(self, component, version, skip_validation, **kwargs)\u001b[0m\n\u001b[0;32m    600\u001b[0m \u001b[38;5;28;01mif\u001b[39;00m \u001b[38;5;28mself\u001b[39m\u001b[38;5;241m.\u001b[39m_registry_name \u001b[38;5;129;01mand\u001b[39;00m \u001b[38;5;129;01mnot\u001b[39;00m component\u001b[38;5;241m.\u001b[39mversion \u001b[38;5;129;01mand\u001b[39;00m component\u001b[38;5;241m.\u001b[39m_auto_increment_version:\n\u001b[0;32m    601\u001b[0m     component\u001b[38;5;241m.\u001b[39mversion \u001b[38;5;241m=\u001b[39m _get_next_version_from_container(\n\u001b[0;32m    602\u001b[0m         name\u001b[38;5;241m=\u001b[39mcomponent\u001b[38;5;241m.\u001b[39mname,\n\u001b[0;32m    603\u001b[0m         container_operation\u001b[38;5;241m=\u001b[39m\u001b[38;5;28mself\u001b[39m\u001b[38;5;241m.\u001b[39m_container_operation,\n\u001b[1;32m   (...)\u001b[0m\n\u001b[0;32m    607\u001b[0m         \u001b[38;5;241m*\u001b[39m\u001b[38;5;241m*\u001b[39m\u001b[38;5;28mself\u001b[39m\u001b[38;5;241m.\u001b[39m_init_args,\n\u001b[0;32m    608\u001b[0m     )\n\u001b[1;32m--> 610\u001b[0m \u001b[38;5;28;01mif\u001b[39;00m \u001b[38;5;129;01mnot\u001b[39;00m \u001b[43mcomponent\u001b[49m\u001b[38;5;241;43m.\u001b[39;49m\u001b[43m_is_anonymous\u001b[49m:\n\u001b[0;32m    611\u001b[0m     component\u001b[38;5;241m.\u001b[39m_is_anonymous \u001b[38;5;241m=\u001b[39m kwargs\u001b[38;5;241m.\u001b[39mpop(\u001b[38;5;124m\"\u001b[39m\u001b[38;5;124mis_anonymous\u001b[39m\u001b[38;5;124m\"\u001b[39m, \u001b[38;5;28;01mFalse\u001b[39;00m)\n\u001b[0;32m    613\u001b[0m \u001b[38;5;28;01mif\u001b[39;00m \u001b[38;5;129;01mnot\u001b[39;00m skip_validation:\n",
      "\u001b[1;31mAttributeError\u001b[0m: module 'py_func_based_pipeline.components.fix_missing_data' has no attribute '_is_anonymous'"
     ]
    }
   ],
   "source": [
    "ml_client.components.create_or_update(remove_empty_rows)\n",
    "ml_client.components.create_or_update(normalize_data)\n",
    "ml_client.components.create_or_update(train_logistic_regression_classifier_model)\n",
    "ml_client.components.create_or_update(train_decision_tree_classifier_model)\n",
    "ml_client.components.create_or_update(compare_two_models)\n"
   ]
  },
  {
   "cell_type": "code",
   "execution_count": null,
   "metadata": {},
   "outputs": [],
   "source": [
    "from azure.ai.ml import Input\n",
    "from azure.ai.ml.constants import AssetTypes\n",
    "from azure.ai.ml.dsl import pipeline\n",
    "\n",
    "@pipeline()\n",
    "def diabetes_classification_py_func(pipeline_job_input):\n",
    "    clean_data = remove_empty_rows(input_data=pipeline_job_input)\n",
    "    normalized_data = normalize_data(input_data=clean_data.outputs.output_data)\n",
    "    train_model_decision_tree = train_decision_tree_classifier_model(training_data=normalized_data.outputs.output_data)\n",
    "    train_model_logistic_regression = train_logistic_regression_classifier_model(training_data=normalized_data.outputs.output_data)\n",
    "    better_model = compare_two_models(model1=train_model_decision_tree.outputs.model_output_decision_tree, \n",
    "                                            model1_metrics=train_model_decision_tree.outputs.metrics_output,\n",
    "                                            model2=train_model_logistic_regression.outputs.model_output_logistic_reg,\n",
    "                                            model2_metrics=train_model_logistic_regression.outputs.metrics_output)                             \n",
    "    \n",
    "    return {\n",
    "        \"pipeline_job_transformed_data\": normalized_data.outputs.output_data,\n",
    "        \"pipeline_job_trained_model_decision_tree\": train_model_decision_tree.outputs.model_output_decision_tree,\n",
    "        \"pipeline_job_trained_model_logistic_regression\": train_model_logistic_regression.outputs.model_output_logistic_reg,\n",
    "        \"pipeline_job_better_model\": better_model.outputs.better_model,\t\n",
    "    }\n",
    "\n",
    "pipeline_job = diabetes_classification_py_func(Input(type=AssetTypes.URI_FILE, path=patient_dataset.path))\n",
    "\n",
    "print(pipeline_job)"
   ]
  },
  {
   "cell_type": "code",
   "execution_count": null,
   "metadata": {},
   "outputs": [],
   "source": [
    "# set pipeline level compute\n",
    "pipeline_job.settings.default_compute = compute_cluster\n",
    "# set pipeline level datastore\n",
    "pipeline_job.settings.default_datastore = \"workspaceblobstore\"\n",
    "\n",
    "# submit job to workspace\n",
    "pipeline_job = ml_client.jobs.create_or_update(\n",
    "    pipeline_job, experiment_name=\"pipeline_diabetes_training_py_func\"\n",
    ")\n",
    "pipeline_job"
   ]
  }
 ],
 "metadata": {
  "kernelspec": {
   "display_name": "venv",
   "language": "python",
   "name": "python3"
  },
  "language_info": {
   "codemirror_mode": {
    "name": "ipython",
    "version": 3
   },
   "file_extension": ".py",
   "mimetype": "text/x-python",
   "name": "python",
   "nbconvert_exporter": "python",
   "pygments_lexer": "ipython3",
   "version": "3.11.9"
  }
 },
 "nbformat": 4,
 "nbformat_minor": 2
}
