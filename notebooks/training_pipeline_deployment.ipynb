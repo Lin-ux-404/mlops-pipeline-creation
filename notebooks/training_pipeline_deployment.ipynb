{
 "cells": [
  {
   "cell_type": "markdown",
   "metadata": {},
   "source": [
    "# Deploy a training pipeline"
   ]
  },
  {
   "cell_type": "markdown",
   "metadata": {},
   "source": [
    "## Before you start\n",
    "\n",
    "Run the cell below to verify that all the required packages are installed."
   ]
  },
  {
   "cell_type": "code",
   "execution_count": null,
   "metadata": {},
   "outputs": [],
   "source": [
    "pip install -r \"../requirements.txt\""
   ]
  },
  {
   "cell_type": "markdown",
   "metadata": {},
   "source": [
    "### Connect to your workspace\n",
    "\n",
    "To connect to a workspace, we need identifier parameters - a subscription ID, resource group name, and workspace name. Since you're working with a compute instance, managed by Azure Machine Learning, you can use the default values to connect to the workspace."
   ]
  },
  {
   "cell_type": "code",
   "execution_count": null,
   "metadata": {},
   "outputs": [],
   "source": [
    "from dotenv import load_dotenv\n",
    "import os\n",
    "load_dotenv() # take environment variables from .env.\n",
    "\n",
    "\n",
    "subscription = os.environ[\"SUBSCRIPTION\"]\n",
    "resource_group = os.environ[\"RESOURCE_GROUP\"]\n",
    "ws_name = os.environ[\"WORKSPACE_NAME\"]"
   ]
  },
  {
   "cell_type": "code",
   "execution_count": null,
   "metadata": {},
   "outputs": [],
   "source": [
    "from azure.ai.ml import MLClient\n",
    "from azure.identity import DefaultAzureCredential\n",
    "\n",
    "# authenticate\n",
    "credential = DefaultAzureCredential()\n",
    "\n",
    "# Get a handle to the workspace\n",
    "ml_client = MLClient(\n",
    "    credential=credential,\n",
    "    subscription_id=subscription,\n",
    "    resource_group_name=resource_group,\n",
    "    workspace_name=ws_name,\n",
    ")"
   ]
  },
  {
   "cell_type": "markdown",
   "metadata": {},
   "source": [
    "Create Data store and upload training data"
   ]
  },
  {
   "cell_type": "code",
   "execution_count": null,
   "metadata": {},
   "outputs": [],
   "source": [
    "from azure.ai.ml.entities import Data\n",
    "from azure.ai.ml.constants import AssetTypes\n",
    "\n",
    "data_path = \"../data\"\n",
    "dataset_name = \"diabetes-data-train\"\n",
    "\n",
    "patient_dataset = Data(\n",
    "    path=data_path,\n",
    "    type=AssetTypes.URI_FOLDER,\n",
    "    description=\"Training data for diabetes prediction\",\n",
    "    name=dataset_name,\n",
    ")\n",
    "ml_client.data.create_or_update(patient_dataset)"
   ]
  },
  {
   "cell_type": "code",
   "execution_count": null,
   "metadata": {},
   "outputs": [],
   "source": [
    "patient_dataset = ml_client.data.get(\n",
    "    name=\"diabetes-data-train\", label=\"latest\"\n",
    ")\n",
    "\n",
    "print(patient_dataset)"
   ]
  },
  {
   "cell_type": "markdown",
   "metadata": {},
   "source": [
    "Load components"
   ]
  },
  {
   "cell_type": "code",
   "execution_count": null,
   "metadata": {},
   "outputs": [],
   "source": [
    "from azure.ai.ml import load_component\n",
    "parent_dir = \"../components/\"\n",
    "\n",
    "fix_missing_data_component = load_component(source=parent_dir + \"fix-missing-data.yml\")\n",
    "normalize_data_component = load_component(source=parent_dir + \"normalize-data.yml\")\n",
    "train_decision_tree_component = load_component(source=parent_dir + \"train-decision-tree.yml\")\n",
    "train_logistic_regression_component = load_component(source=parent_dir + \"train-logistic-regression.yml\")\n",
    "\n",
    "\n"
   ]
  },
  {
   "cell_type": "markdown",
   "metadata": {},
   "source": [
    "Build pipeline"
   ]
  },
  {
   "cell_type": "code",
   "execution_count": null,
   "metadata": {},
   "outputs": [],
   "source": [
    "from azure.ai.ml import Input\n",
    "from azure.ai.ml.constants import AssetTypes\n",
    "from azure.ai.ml.dsl import pipeline\n",
    "\n",
    "@pipeline()\n",
    "def diabetes_classification(pipeline_job_input):\n",
    "    clean_data = fix_missing_data_component(input_data=pipeline_job_input)\n",
    "    normalized_data = normalize_data_component(input_data=clean_data.outputs.output_data)\n",
    "    train_model_decision_tree = train_decision_tree_component(training_data=normalized_data.outputs.output_data)\n",
    "    train_model_logistic_regression = train_logistic_regression_component(training_data=normalized_data.outputs.output_data)\n",
    "\n",
    "\n",
    "    return {\n",
    "        \"pipeline_job_transformed_data\": normalized_data.outputs.output_data,\n",
    "        \"pipeline_job_trained_model_decision_tree\": train_model_decision_tree.outputs.model_output_decision_tree,\n",
    "        \"pipeline_job_trained_model_logistic_regression\": train_model_logistic_regression.outputs.model_output_logistic_reg,\n",
    "    }\n",
    "\n",
    "pipeline_job = diabetes_classification(Input(type=AssetTypes.URI_FILE, path=patient_dataset.path))\n",
    "print(pipeline_job)"
   ]
  },
  {
   "cell_type": "code",
   "execution_count": null,
   "metadata": {},
   "outputs": [],
   "source": [
    "\n",
    "# set pipeline level compute\n",
    "pipeline_job.settings.default_compute = \"aml-cluster\"\n",
    "# set pipeline level datastore\n",
    "pipeline_job.settings.default_datastore = \"workspaceblobstore\"\n",
    "\n",
    "# print the pipeline job again to review the changes\n",
    "print(pipeline_job)"
   ]
  },
  {
   "cell_type": "code",
   "execution_count": null,
   "metadata": {},
   "outputs": [],
   "source": [
    "# submit job to workspace\n",
    "pipeline_job = ml_client.jobs.create_or_update(\n",
    "    pipeline_job, experiment_name=\"pipeline_diabetes_training\"\n",
    ")\n",
    "pipeline_job"
   ]
  },
  {
   "cell_type": "markdown",
   "metadata": {},
   "source": [
    "Go inside AML Studio and check which model performs better and replace `superior_model_node`"
   ]
  },
  {
   "cell_type": "code",
   "execution_count": null,
   "metadata": {},
   "outputs": [],
   "source": [
    "# List all child jobs in the job\n",
    "child_jobs = ml_client.jobs.list(parent_job_name=pipeline_job.name)\n",
    "superior_model_node = \"train_model_decision_tree\"\n",
    "\n",
    "# Traverse and download all the outputs of child job\n",
    "for child_job in child_jobs:\n",
    "    # print(child_job.properties)\n",
    "    if child_job.display_name == superior_model_node:\n",
    "        props = child_job.properties\n",
    "        reused_run_id = props.get('azureml.reusedrunid')\n",
    "\n",
    "        if reused_run_id:\n",
    "            job_id = reused_run_id\n",
    "        else:\n",
    "            job_id = child_job.name\n",
    "        break\n",
    "\n",
    "print(job_id)"
   ]
  },
  {
   "cell_type": "code",
   "execution_count": null,
   "metadata": {},
   "outputs": [],
   "source": [
    "from azure.ai.ml.entities import Model\n",
    "from azure.ai.ml.constants import AssetTypes\n",
    "from azure.core.exceptions import HttpResponseError\n",
    "\n",
    "run_model = Model(\n",
    "    path=f\"azureml://datastores/workspaceartifactstore/paths/ExperimentRun/dcid.{job_id}/outputs/models/\",\n",
    "    name=\"decision_tree_diabetes_classifier\",\n",
    "    description=\"Model trained using decision tree classifier\",\n",
    "    type=AssetTypes.MLFLOW_MODEL,\n",
    ")\n",
    "\n",
    "# Attempt to create or update the model\n",
    "try:\n",
    "    ml_client.models.create_or_update(run_model)\n",
    "except HttpResponseError as e:\n",
    "    print(f\"Error: {e}\")\n",
    "    print(f\"Response: {e.response}\")"
   ]
  }
 ],
 "metadata": {
  "kernelspec": {
   "display_name": "venv",
   "language": "python",
   "name": "python3"
  },
  "language_info": {
   "codemirror_mode": {
    "name": "ipython",
    "version": 3
   },
   "file_extension": ".py",
   "mimetype": "text/x-python",
   "name": "python",
   "nbconvert_exporter": "python",
   "pygments_lexer": "ipython3",
   "version": "3.11.9"
  }
 },
 "nbformat": 4,
 "nbformat_minor": 2
}
